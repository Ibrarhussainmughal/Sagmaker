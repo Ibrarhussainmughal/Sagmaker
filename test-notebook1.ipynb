{
 "cells": [
  {
   "cell_type": "code",
   "execution_count": 1,
   "id": "23f6fedb",
   "metadata": {},
   "outputs": [],
   "source": [
    "a = 8\n",
    "b =5 \n",
    "c = a+b"
   ]
  },
  {
   "cell_type": "code",
   "execution_count": 2,
   "id": "846d2afe",
   "metadata": {},
   "outputs": [
    {
     "data": {
      "text/plain": [
       "13"
      ]
     },
     "execution_count": 2,
     "metadata": {},
     "output_type": "execute_result"
    }
   ],
   "source": [
    "c"
   ]
  },
  {
   "cell_type": "code",
   "execution_count": 1,
   "id": "c86cbe0f",
   "metadata": {},
   "outputs": [
    {
     "data": {
      "text/plain": [
       "'ibrar'"
      ]
     },
     "execution_count": 1,
     "metadata": {},
     "output_type": "execute_result"
    }
   ],
   "source": [
    "a = \"ibrar\"\n",
    "a"
   ]
  },
  {
   "cell_type": "code",
   "execution_count": 1,
   "id": "8f1d9f4d",
   "metadata": {},
   "outputs": [
    {
     "data": {
      "text/plain": [
       "'45'"
      ]
     },
     "execution_count": 1,
     "metadata": {},
     "output_type": "execute_result"
    }
   ],
   "source": [
    "my_age = \"45\"\n",
    "my_age"
   ]
  },
  {
   "cell_type": "code",
   "execution_count": null,
   "id": "4ff94047",
   "metadata": {},
   "outputs": [],
   "source": []
  }
 ],
 "metadata": {
  "kernelspec": {
   "display_name": "conda-sagemaker",
   "language": "python",
   "name": "conda-sagemaker"
  },
  "language_info": {
   "codemirror_mode": {
    "name": "ipython",
    "version": 3
   },
   "file_extension": ".py",
   "mimetype": "text/x-python",
   "name": "python",
   "nbconvert_exporter": "python",
   "pygments_lexer": "ipython3",
   "version": "3.9.12"
  }
 },
 "nbformat": 4,
 "nbformat_minor": 5
}
