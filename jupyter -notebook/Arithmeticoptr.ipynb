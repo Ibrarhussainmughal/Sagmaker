{
 "cells": [
  {
   "cell_type": "markdown",
   "id": "8ead7480",
   "metadata": {},
   "source": [
    "# Arithmetic operators in python."
   ]
  },
  {
   "cell_type": "code",
   "execution_count": 1,
   "id": "3cf4d35e",
   "metadata": {},
   "outputs": [
    {
     "name": "stdout",
     "output_type": "stream",
     "text": [
      "30\n",
      "-10\n",
      "200\n",
      "0.5\n",
      "2\n",
      "1\n",
      "25\n",
      "125\n",
      "3.3333333333333335\n",
      "3\n"
     ]
    }
   ],
   "source": [
    "a = 10\n",
    "b = 20\n",
    "#addition(+)   x+y\n",
    "print(a+b)\n",
    "\n",
    "#Subtraction(-)  x-y\n",
    "print(a-b)\n",
    "\n",
    "# Multiplication(*) x*y\n",
    "print(a*b)\n",
    "\n",
    "#Division(/) x/y\n",
    "print(a/b)\n",
    "\n",
    "#Modulus(%)  x%y\n",
    "print(b%3)\n",
    "print(10%3)\n",
    "\n",
    "#Exponents(**)  x**y\n",
    "print(5**2) #5*5\n",
    "print(5**3) # 5*5*5\n",
    "\n",
    "print(10/3)\n",
    "#Floor division(//)   x //y\n",
    "print(10//3)# its given answer 3 not given next .333 , only integer value given."
   ]
  },
  {
   "cell_type": "code",
   "execution_count": 2,
   "id": "f2e17081",
   "metadata": {},
   "outputs": [
    {
     "name": "stdout",
     "output_type": "stream",
     "text": [
      "30\n"
     ]
    }
   ],
   "source": [
    "a = 10\n",
    "b = 20\n",
    "#addition(+)   x+y\n",
    "print(a+b)"
   ]
  },
  {
   "cell_type": "code",
   "execution_count": 3,
   "id": "553c00e5",
   "metadata": {},
   "outputs": [
    {
     "name": "stdout",
     "output_type": "stream",
     "text": [
      "-10\n"
     ]
    }
   ],
   "source": [
    "#Subtraction(-)  x-y\n",
    "print(a-b)"
   ]
  },
  {
   "cell_type": "code",
   "execution_count": 4,
   "id": "d362d702",
   "metadata": {},
   "outputs": [
    {
     "name": "stdout",
     "output_type": "stream",
     "text": [
      "200\n"
     ]
    }
   ],
   "source": [
    "# Multiplication(*) x*y\n",
    "print(a*b)"
   ]
  },
  {
   "cell_type": "code",
   "execution_count": 5,
   "id": "e276ceef",
   "metadata": {},
   "outputs": [
    {
     "name": "stdout",
     "output_type": "stream",
     "text": [
      "0.5\n"
     ]
    }
   ],
   "source": [
    "#Division(/) x/y\n",
    "print(a/b)"
   ]
  },
  {
   "cell_type": "code",
   "execution_count": 6,
   "id": "066071e3",
   "metadata": {},
   "outputs": [
    {
     "name": "stdout",
     "output_type": "stream",
     "text": [
      "2\n",
      "1\n"
     ]
    }
   ],
   "source": [
    "#Modulus(%)  x%y\n",
    "print(b%3)\n",
    "print(10%3)"
   ]
  },
  {
   "cell_type": "code",
   "execution_count": 7,
   "id": "f82f86b1",
   "metadata": {},
   "outputs": [
    {
     "name": "stdout",
     "output_type": "stream",
     "text": [
      "25\n",
      "125\n"
     ]
    }
   ],
   "source": [
    "#Exponents(**)  x**y\n",
    "print(5**2) #5*5\n",
    "print(5**3) # 5*5*5"
   ]
  },
  {
   "cell_type": "code",
   "execution_count": 8,
   "id": "dccdd066",
   "metadata": {},
   "outputs": [
    {
     "name": "stdout",
     "output_type": "stream",
     "text": [
      "3.3333333333333335\n",
      "3\n"
     ]
    }
   ],
   "source": [
    "print(10/3)\n",
    "#Floor division(//)   x //y\n",
    "print(10//3)# its given answer 3 not given next .333 , only integer value given."
   ]
  },
  {
   "cell_type": "code",
   "execution_count": null,
   "id": "8ebf15bb",
   "metadata": {},
   "outputs": [],
   "source": []
  }
 ],
 "metadata": {
  "kernelspec": {
   "display_name": "Python 3 (ipykernel)",
   "language": "python",
   "name": "python3"
  },
  "language_info": {
   "codemirror_mode": {
    "name": "ipython",
    "version": 3
   },
   "file_extension": ".py",
   "mimetype": "text/x-python",
   "name": "python",
   "nbconvert_exporter": "python",
   "pygments_lexer": "ipython3",
   "version": "3.9.12"
  }
 },
 "nbformat": 4,
 "nbformat_minor": 5
}
