{
 "cells": [
  {
   "cell_type": "code",
   "execution_count": 68,
   "id": "e1e0d915",
   "metadata": {},
   "outputs": [],
   "source": [
    "d = open(\"test-notebook.ipynb\")\n",
    "d = open(\"test-notebook.ipynb\",\"rt\")"
   ]
  },
  {
   "cell_type": "markdown",
   "id": "a192114b",
   "metadata": {},
   "source": [
    "# Syntax"
   ]
  },
  {
   "cell_type": "code",
   "execution_count": 23,
   "id": "d6dd3ea3",
   "metadata": {},
   "outputs": [
    {
     "name": "stdout",
     "output_type": "stream",
     "text": [
      "{\n",
      " \"cells\": [\n",
      "  {\n",
      "   \"cell_type\": \"code\",\n",
      "   \"execution_count\": 1,\n",
      "   \"id\": \"201d7fca\",\n",
      "   \"metadata\": {},\n",
      "   \"outputs\": [\n",
      "    {\n",
      "     \"data\": {\n",
      "      \"text/plain\": [\n",
      "       \"'ali'\"\n",
      "      ]\n",
      "     },\n",
      "     \"execution_count\": 1,\n",
      "     \"metadata\": {},\n",
      "     \"output_type\": \"execute_result\"\n",
      "    }\n",
      "   ],\n",
      "   \"source\": [\n",
      "    \"name =\\\"ali\\\"\\n\",\n",
      "    \"name\"\n",
      "   ]\n",
      "  },\n",
      "  {\n",
      "   \"cell_type\": \"code\",\n",
      "   \"execution_count\": null,\n",
      "   \"id\": \"90bd5378\",\n",
      "   \"metadata\": {},\n",
      "   \"outputs\": [],\n",
      "   \"source\": []\n",
      "  }\n",
      " ],\n",
      " \"metadata\": {\n",
      "  \"kernelspec\": {\n",
      "   \"display_name\": \"conda-sagemaker\",\n",
      "   \"language\": \"python\",\n",
      "   \"name\": \"conda-sagemaker\"\n",
      "  },\n",
      "  \"language_info\": {\n",
      "   \"codemirror_mode\": {\n",
      "    \"name\": \"ipython\",\n",
      "    \"version\": 3\n",
      "   },\n",
      "   \"file_extension\": \".py\",\n",
      "   \"mimetype\": \"text/x-python\",\n",
      "   \"name\": \"python\",\n",
      "   \"nbconvert_exporter\": \"python\",\n",
      "   \"pygments_lexer\": \"ipython3\",\n",
      "   \"version\": \"3.9.12\"\n",
      "  }\n",
      " },\n",
      " \"nbformat\": 4,\n",
      " \"nbformat_minor\": 5\n",
      "}\n",
      "\n"
     ]
    }
   ],
   "source": [
    "d = open(\"test-notebook.ipynb\")\n",
    "print(d.read())"
   ]
  },
  {
   "cell_type": "markdown",
   "id": "dcf591fa",
   "metadata": {},
   "source": [
    "# Open a File"
   ]
  },
  {
   "cell_type": "code",
   "execution_count": 25,
   "id": "f68d4af7",
   "metadata": {
    "scrolled": true
   },
   "outputs": [
    {
     "name": "stdout",
     "output_type": "stream",
     "text": [
      "hello world\n",
      "\n"
     ]
    }
   ],
   "source": [
    "f = open(\"demo.txt\",\"r\")\n",
    "print(f.read())"
   ]
  },
  {
   "cell_type": "markdown",
   "id": "27ad7f05",
   "metadata": {},
   "source": [
    "# Read only parts of the File"
   ]
  },
  {
   "cell_type": "code",
   "execution_count": 31,
   "id": "3b7b41e0",
   "metadata": {},
   "outputs": [
    {
     "name": "stdout",
     "output_type": "stream",
     "text": [
      "hello world\n",
      "\n"
     ]
    }
   ],
   "source": [
    "f = open(\"demo.txt\",'r')\n",
    "print(f.readline())"
   ]
  },
  {
   "cell_type": "markdown",
   "id": "a6f15e64",
   "metadata": {},
   "source": [
    "# add one more line to read"
   ]
  },
  {
   "cell_type": "code",
   "execution_count": 39,
   "id": "87a47552",
   "metadata": {
    "scrolled": true
   },
   "outputs": [
    {
     "name": "stdout",
     "output_type": "stream",
     "text": [
      "hello world\n",
      "\n",
      "i am working on File Handling\n",
      "\n"
     ]
    }
   ],
   "source": [
    "f = open(\"demo.txt\",\"r\")\n",
    "print(f.readline())\n",
    "print(f.readline())"
   ]
  },
  {
   "cell_type": "markdown",
   "id": "11c286a5",
   "metadata": {},
   "source": [
    "# Read a content of lines step by step through loop"
   ]
  },
  {
   "cell_type": "code",
   "execution_count": 42,
   "id": "5b026ac0",
   "metadata": {},
   "outputs": [
    {
     "name": "stdout",
     "output_type": "stream",
     "text": [
      "<_io.TextIOWrapper name='demo.txt' mode='r' encoding='UTF-8'>\n",
      "<_io.TextIOWrapper name='demo.txt' mode='r' encoding='UTF-8'>\n",
      "<_io.TextIOWrapper name='demo.txt' mode='r' encoding='UTF-8'>\n",
      "<_io.TextIOWrapper name='demo.txt' mode='r' encoding='UTF-8'>\n",
      "<_io.TextIOWrapper name='demo.txt' mode='r' encoding='UTF-8'>\n",
      "<_io.TextIOWrapper name='demo.txt' mode='r' encoding='UTF-8'>\n",
      "<_io.TextIOWrapper name='demo.txt' mode='r' encoding='UTF-8'>\n"
     ]
    }
   ],
   "source": [
    "f = open(\"demo.txt\",\"r\")\n",
    "for x in f:\n",
    "    print(f)"
   ]
  },
  {
   "cell_type": "code",
   "execution_count": 43,
   "id": "3b69d382",
   "metadata": {},
   "outputs": [
    {
     "name": "stdout",
     "output_type": "stream",
     "text": [
      "<_io.TextIOWrapper name='test-notebook.ipynb' mode='r' encoding='UTF-8'>\n",
      "<_io.TextIOWrapper name='test-notebook.ipynb' mode='r' encoding='UTF-8'>\n",
      "<_io.TextIOWrapper name='test-notebook.ipynb' mode='r' encoding='UTF-8'>\n",
      "<_io.TextIOWrapper name='test-notebook.ipynb' mode='r' encoding='UTF-8'>\n",
      "<_io.TextIOWrapper name='test-notebook.ipynb' mode='r' encoding='UTF-8'>\n",
      "<_io.TextIOWrapper name='test-notebook.ipynb' mode='r' encoding='UTF-8'>\n",
      "<_io.TextIOWrapper name='test-notebook.ipynb' mode='r' encoding='UTF-8'>\n",
      "<_io.TextIOWrapper name='test-notebook.ipynb' mode='r' encoding='UTF-8'>\n",
      "<_io.TextIOWrapper name='test-notebook.ipynb' mode='r' encoding='UTF-8'>\n",
      "<_io.TextIOWrapper name='test-notebook.ipynb' mode='r' encoding='UTF-8'>\n",
      "<_io.TextIOWrapper name='test-notebook.ipynb' mode='r' encoding='UTF-8'>\n",
      "<_io.TextIOWrapper name='test-notebook.ipynb' mode='r' encoding='UTF-8'>\n",
      "<_io.TextIOWrapper name='test-notebook.ipynb' mode='r' encoding='UTF-8'>\n",
      "<_io.TextIOWrapper name='test-notebook.ipynb' mode='r' encoding='UTF-8'>\n",
      "<_io.TextIOWrapper name='test-notebook.ipynb' mode='r' encoding='UTF-8'>\n",
      "<_io.TextIOWrapper name='test-notebook.ipynb' mode='r' encoding='UTF-8'>\n",
      "<_io.TextIOWrapper name='test-notebook.ipynb' mode='r' encoding='UTF-8'>\n",
      "<_io.TextIOWrapper name='test-notebook.ipynb' mode='r' encoding='UTF-8'>\n",
      "<_io.TextIOWrapper name='test-notebook.ipynb' mode='r' encoding='UTF-8'>\n",
      "<_io.TextIOWrapper name='test-notebook.ipynb' mode='r' encoding='UTF-8'>\n",
      "<_io.TextIOWrapper name='test-notebook.ipynb' mode='r' encoding='UTF-8'>\n",
      "<_io.TextIOWrapper name='test-notebook.ipynb' mode='r' encoding='UTF-8'>\n",
      "<_io.TextIOWrapper name='test-notebook.ipynb' mode='r' encoding='UTF-8'>\n",
      "<_io.TextIOWrapper name='test-notebook.ipynb' mode='r' encoding='UTF-8'>\n",
      "<_io.TextIOWrapper name='test-notebook.ipynb' mode='r' encoding='UTF-8'>\n",
      "<_io.TextIOWrapper name='test-notebook.ipynb' mode='r' encoding='UTF-8'>\n",
      "<_io.TextIOWrapper name='test-notebook.ipynb' mode='r' encoding='UTF-8'>\n",
      "<_io.TextIOWrapper name='test-notebook.ipynb' mode='r' encoding='UTF-8'>\n",
      "<_io.TextIOWrapper name='test-notebook.ipynb' mode='r' encoding='UTF-8'>\n",
      "<_io.TextIOWrapper name='test-notebook.ipynb' mode='r' encoding='UTF-8'>\n",
      "<_io.TextIOWrapper name='test-notebook.ipynb' mode='r' encoding='UTF-8'>\n",
      "<_io.TextIOWrapper name='test-notebook.ipynb' mode='r' encoding='UTF-8'>\n",
      "<_io.TextIOWrapper name='test-notebook.ipynb' mode='r' encoding='UTF-8'>\n",
      "<_io.TextIOWrapper name='test-notebook.ipynb' mode='r' encoding='UTF-8'>\n",
      "<_io.TextIOWrapper name='test-notebook.ipynb' mode='r' encoding='UTF-8'>\n",
      "<_io.TextIOWrapper name='test-notebook.ipynb' mode='r' encoding='UTF-8'>\n",
      "<_io.TextIOWrapper name='test-notebook.ipynb' mode='r' encoding='UTF-8'>\n",
      "<_io.TextIOWrapper name='test-notebook.ipynb' mode='r' encoding='UTF-8'>\n",
      "<_io.TextIOWrapper name='test-notebook.ipynb' mode='r' encoding='UTF-8'>\n",
      "<_io.TextIOWrapper name='test-notebook.ipynb' mode='r' encoding='UTF-8'>\n",
      "<_io.TextIOWrapper name='test-notebook.ipynb' mode='r' encoding='UTF-8'>\n",
      "<_io.TextIOWrapper name='test-notebook.ipynb' mode='r' encoding='UTF-8'>\n",
      "<_io.TextIOWrapper name='test-notebook.ipynb' mode='r' encoding='UTF-8'>\n",
      "<_io.TextIOWrapper name='test-notebook.ipynb' mode='r' encoding='UTF-8'>\n",
      "<_io.TextIOWrapper name='test-notebook.ipynb' mode='r' encoding='UTF-8'>\n",
      "<_io.TextIOWrapper name='test-notebook.ipynb' mode='r' encoding='UTF-8'>\n",
      "<_io.TextIOWrapper name='test-notebook.ipynb' mode='r' encoding='UTF-8'>\n",
      "<_io.TextIOWrapper name='test-notebook.ipynb' mode='r' encoding='UTF-8'>\n",
      "<_io.TextIOWrapper name='test-notebook.ipynb' mode='r' encoding='UTF-8'>\n",
      "<_io.TextIOWrapper name='test-notebook.ipynb' mode='r' encoding='UTF-8'>\n",
      "<_io.TextIOWrapper name='test-notebook.ipynb' mode='r' encoding='UTF-8'>\n",
      "<_io.TextIOWrapper name='test-notebook.ipynb' mode='r' encoding='UTF-8'>\n",
      "<_io.TextIOWrapper name='test-notebook.ipynb' mode='r' encoding='UTF-8'>\n",
      "<_io.TextIOWrapper name='test-notebook.ipynb' mode='r' encoding='UTF-8'>\n",
      "<_io.TextIOWrapper name='test-notebook.ipynb' mode='r' encoding='UTF-8'>\n"
     ]
    }
   ],
   "source": [
    "d = open(\"test-notebook.ipynb\")\n",
    "for x in d:\n",
    "    print(d)"
   ]
  },
  {
   "cell_type": "markdown",
   "id": "314e961e",
   "metadata": {},
   "source": [
    "# close the file\n"
   ]
  },
  {
   "cell_type": "code",
   "execution_count": 34,
   "id": "18f1779d",
   "metadata": {},
   "outputs": [],
   "source": [
    "f.close()"
   ]
  },
  {
   "cell_type": "markdown",
   "id": "ebf2e6b1",
   "metadata": {},
   "source": [
    "# Write to an Existing File"
   ]
  },
  {
   "cell_type": "code",
   "execution_count": 48,
   "id": "38772d6f",
   "metadata": {},
   "outputs": [],
   "source": [
    "f = open(\"demo2.txt\",\"a\")\n",
    "f.write(\"Now the file has more content\")\n",
    "f.close()"
   ]
  },
  {
   "cell_type": "markdown",
   "id": "95d51783",
   "metadata": {},
   "source": [
    "# open and read the file after the appending:"
   ]
  },
  {
   "cell_type": "code",
   "execution_count": 49,
   "id": "75a34a14",
   "metadata": {},
   "outputs": [
    {
     "name": "stdout",
     "output_type": "stream",
     "text": [
      "Now the file has more content\n"
     ]
    }
   ],
   "source": [
    "f = open(\"demo2.txt\",\"r\")\n",
    "print(f.read())"
   ]
  },
  {
   "cell_type": "code",
   "execution_count": 50,
   "id": "ec3f41a0",
   "metadata": {},
   "outputs": [],
   "source": [
    "f = open(\"demo.txt\",\"a\")\n",
    "f.write(\"Now the file has more content\")\n",
    "f.close()"
   ]
  },
  {
   "cell_type": "code",
   "execution_count": 51,
   "id": "7be33a6b",
   "metadata": {},
   "outputs": [
    {
     "name": "stdout",
     "output_type": "stream",
     "text": [
      "hello world\n",
      "i am working on File Handling\n",
      "with Methods of open function for example\n",
      "apend\n",
      "write\n",
      "read\n",
      "remove\n",
      "Now the file has more contentNow the file has more content\n"
     ]
    }
   ],
   "source": [
    "f = open(\"demo.txt\",\"r\")\n",
    "print(f.read())"
   ]
  },
  {
   "cell_type": "markdown",
   "id": "4381f571",
   "metadata": {},
   "source": [
    "# how to overwrite the content "
   ]
  },
  {
   "cell_type": "code",
   "execution_count": 52,
   "id": "f8ec02d8",
   "metadata": {},
   "outputs": [],
   "source": [
    "f = open(\"demo3.txt\",\"w\")\n",
    "f.write(\"i have deleted the content!\")\n",
    "f.close()"
   ]
  },
  {
   "cell_type": "markdown",
   "id": "05fb95f4",
   "metadata": {},
   "source": [
    "# open and read the file after the appending:"
   ]
  },
  {
   "cell_type": "code",
   "execution_count": 53,
   "id": "4799ca62",
   "metadata": {},
   "outputs": [
    {
     "name": "stdout",
     "output_type": "stream",
     "text": [
      "i have deleted the content!\n"
     ]
    }
   ],
   "source": [
    "f = open(\"demo3.txt\",\"r\")\n",
    "print(f.read())"
   ]
  },
  {
   "cell_type": "markdown",
   "id": "f2f2f788",
   "metadata": {},
   "source": [
    "# Delete File"
   ]
  },
  {
   "cell_type": "code",
   "execution_count": 54,
   "id": "d62dc94d",
   "metadata": {},
   "outputs": [],
   "source": [
    "import os\n",
    "os.remove(\"demo.txt\")"
   ]
  },
  {
   "cell_type": "code",
   "execution_count": 63,
   "id": "34863763",
   "metadata": {},
   "outputs": [
    {
     "name": "stdout",
     "output_type": "stream",
     "text": [
      "The file does not exist\n"
     ]
    }
   ],
   "source": [
    "import os\n",
    "if os.path.exists(\"demo.txt\"):\n",
    "    os.remove(\"demo.txt\")\n",
    "else:\n",
    "        print(\"The file does not exist\")"
   ]
  },
  {
   "cell_type": "markdown",
   "id": "a434b65f",
   "metadata": {},
   "source": [
    "# Delete Folder"
   ]
  },
  {
   "cell_type": "code",
   "execution_count": 64,
   "id": "229d06f6",
   "metadata": {},
   "outputs": [],
   "source": [
    "import os\n",
    "os.rmdir(\"myfolder\")"
   ]
  },
  {
   "cell_type": "code",
   "execution_count": null,
   "id": "0864c237",
   "metadata": {},
   "outputs": [],
   "source": []
  }
 ],
 "metadata": {
  "kernelspec": {
   "display_name": "Python 3 (ipykernel)",
   "language": "python",
   "name": "python3"
  },
  "language_info": {
   "codemirror_mode": {
    "name": "ipython",
    "version": 3
   },
   "file_extension": ".py",
   "mimetype": "text/x-python",
   "name": "python",
   "nbconvert_exporter": "python",
   "pygments_lexer": "ipython3",
   "version": "3.9.7"
  }
 },
 "nbformat": 4,
 "nbformat_minor": 5
}
